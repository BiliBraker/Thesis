{
 "cells": [
  {
   "cell_type": "code",
   "execution_count": 1,
   "metadata": {},
   "outputs": [
    {
     "name": "stdout",
     "output_type": "stream",
     "text": [
      "Processing c:/Users/soirk/Krisztian/Egyetem/Survey Statisztika Msc/Szakdolgozat/pdfs/10.1136_bmjopen-2018-028767.pdf\n"
     ]
    },
    {
     "name": "stderr",
     "output_type": "stream",
     "text": [
      "2020-01-31 12:13:41,983 [MainThread  ] [WARNI]  Failed to see startup log message; retrying...\n"
     ]
    },
    {
     "name": "stdout",
     "output_type": "stream",
     "text": [
      "Writing contents to c:/Users/soirk/Krisztian/Egyetem/Survey Statisztika Msc/Szakdolgozat/pdfs/10.1136_bmjopen-2018-028767.txt\n",
      "Processing c:/Users/soirk/Krisztian/Egyetem/Survey Statisztika Msc/Szakdolgozat/pdfs/10.1371_journal.pcbi.1007399.pdf\n",
      "Writing contents to c:/Users/soirk/Krisztian/Egyetem/Survey Statisztika Msc/Szakdolgozat/pdfs/10.1371_journal.pcbi.1007399.txt\n",
      "Processing c:/Users/soirk/Krisztian/Egyetem/Survey Statisztika Msc/Szakdolgozat/pdfs/Banbura-2014-Maximum-likelihood-estimation-of-fa.pdf\n",
      "Writing contents to c:/Users/soirk/Krisztian/Egyetem/Survey Statisztika Msc/Szakdolgozat/pdfs/Banbura-2014-Maximum-likelihood-estimation-of-fa.txt\n",
      "Processing c:/Users/soirk/Krisztian/Egyetem/Survey Statisztika Msc/Szakdolgozat/pdfs/Briggs-2003-Missing-presumed-at-random-cost-ana.pdf\n",
      "Writing contents to c:/Users/soirk/Krisztian/Egyetem/Survey Statisztika Msc/Szakdolgozat/pdfs/Briggs-2003-Missing-presumed-at-random-cost-ana.txt\n",
      "Processing c:/Users/soirk/Krisztian/Egyetem/Survey Statisztika Msc/Szakdolgozat/pdfs/Bunji-Okada2019_Article_ItemResponseAndResponseTimeMod.pdf\n",
      "Writing contents to c:/Users/soirk/Krisztian/Egyetem/Survey Statisztika Msc/Szakdolgozat/pdfs/Bunji-Okada2019_Article_ItemResponseAndResponseTimeMod.txt\n",
      "Processing c:/Users/soirk/Krisztian/Egyetem/Survey Statisztika Msc/Szakdolgozat/pdfs/clinical stuff - tresiba and ryzodeg evaluation .pdf\n",
      "Writing contents to c:/Users/soirk/Krisztian/Egyetem/Survey Statisztika Msc/Szakdolgozat/pdfs/clinical stuff - tresiba and ryzodeg evaluation .txt\n",
      "Processing c:/Users/soirk/Krisztian/Egyetem/Survey Statisztika Msc/Szakdolgozat/pdfs/Cooke-2001-Robust-automatic-speech-recognition.pdf\n",
      "Writing contents to c:/Users/soirk/Krisztian/Egyetem/Survey Statisztika Msc/Szakdolgozat/pdfs/Cooke-2001-Robust-automatic-speech-recognition.txt\n",
      "Processing c:/Users/soirk/Krisztian/Egyetem/Survey Statisztika Msc/Szakdolgozat/pdfs/Deng-2016-Multiple-imputation-for-general-mis.pdf\n",
      "Writing contents to c:/Users/soirk/Krisztian/Egyetem/Survey Statisztika Msc/Szakdolgozat/pdfs/Deng-2016-Multiple-imputation-for-general-mis.txt\n",
      "Processing c:/Users/soirk/Krisztian/Egyetem/Survey Statisztika Msc/Szakdolgozat/pdfs/Donald B. Rubin - Multiple Imputation for Nonresponse in Surveys (Wiley Series in Probability and Statistics) (1987).pdf\n",
      "Writing contents to c:/Users/soirk/Krisztian/Egyetem/Survey Statisztika Msc/Szakdolgozat/pdfs/Donald B. Rubin - Multiple Imputation for Nonresponse in Surveys (Wiley Series in Probability and Statistics) (1987).txt\n",
      "Processing c:/Users/soirk/Krisztian/Egyetem/Survey Statisztika Msc/Szakdolgozat/pdfs/dudbrigde-likelihood-based association analysis.pdf\n",
      "Writing contents to c:/Users/soirk/Krisztian/Egyetem/Survey Statisztika Msc/Szakdolgozat/pdfs/dudbrigde-likelihood-based association analysis.txt\n",
      "Processing c:/Users/soirk/Krisztian/Egyetem/Survey Statisztika Msc/Szakdolgozat/pdfs/Gareth James, Daniela Witten, Trevor Hastie, Robert Tibshirani - An Introduction to Statistical Learning with Applications in R-Springer (2013).pdf\n",
      "Writing contents to c:/Users/soirk/Krisztian/Egyetem/Survey Statisztika Msc/Szakdolgozat/pdfs/Gareth James, Daniela Witten, Trevor Hastie, Robert Tibshirani - An Introduction to Statistical Learning with Applications in R-Springer (2013).txt\n",
      "Processing c:/Users/soirk/Krisztian/Egyetem/Survey Statisztika Msc/Szakdolgozat/pdfs/generalized robust ratio estimator for imputation.pdf\n",
      "Writing contents to c:/Users/soirk/Krisztian/Egyetem/Survey Statisztika Msc/Szakdolgozat/pdfs/generalized robust ratio estimator for imputation.txt\n",
      "Processing c:/Users/soirk/Krisztian/Egyetem/Survey Statisztika Msc/Szakdolgozat/pdfs/ichikawa et al- handling mising data in a ffq.pdf\n",
      "Writing contents to c:/Users/soirk/Krisztian/Egyetem/Survey Statisztika Msc/Szakdolgozat/pdfs/ichikawa et al- handling mising data in a ffq.txt\n",
      "Processing c:/Users/soirk/Krisztian/Egyetem/Survey Statisztika Msc/Szakdolgozat/pdfs/Implementing Multiple Ratio Imputation by the EMB Algorithm in R.pdf\n",
      "Writing contents to c:/Users/soirk/Krisztian/Egyetem/Survey Statisztika Msc/Szakdolgozat/pdfs/Implementing Multiple Ratio Imputation by the EMB Algorithm in R.txt\n",
      "Processing c:/Users/soirk/Krisztian/Egyetem/Survey Statisztika Msc/Szakdolgozat/pdfs/imputation of the 1989 survey of consumer finances.pdf\n",
      "Writing contents to c:/Users/soirk/Krisztian/Egyetem/Survey Statisztika Msc/Szakdolgozat/pdfs/imputation of the 1989 survey of consumer finances.txt\n",
      "Processing c:/Users/soirk/Krisztian/Egyetem/Survey Statisztika Msc/Szakdolgozat/pdfs/karahalios et al-handling missing data in cohort studies.pdf\n",
      "Writing contents to c:/Users/soirk/Krisztian/Egyetem/Survey Statisztika Msc/Szakdolgozat/pdfs/karahalios et al-handling missing data in cohort studies.txt\n",
      "Processing c:/Users/soirk/Krisztian/Egyetem/Survey Statisztika Msc/Szakdolgozat/pdfs/mice_package.pdf\n",
      "Writing contents to c:/Users/soirk/Krisztian/Egyetem/Survey Statisztika Msc/Szakdolgozat/pdfs/mice_package.txt\n",
      "Processing c:/Users/soirk/Krisztian/Egyetem/Survey Statisztika Msc/Szakdolgozat/pdfs/Mirkes-2016-Handling-missing-data-in-large-heal.pdf\n",
      "Writing contents to c:/Users/soirk/Krisztian/Egyetem/Survey Statisztika Msc/Szakdolgozat/pdfs/Mirkes-2016-Handling-missing-data-in-large-heal.txt\n",
      "Processing c:/Users/soirk/Krisztian/Egyetem/Survey Statisztika Msc/Szakdolgozat/pdfs/Multiple Ratio Imputation by the EMB Algorithm.pdf\n",
      "Writing contents to c:/Users/soirk/Krisztian/Egyetem/Survey Statisztika Msc/Szakdolgozat/pdfs/Multiple Ratio Imputation by the EMB Algorithm.txt\n",
      "Processing c:/Users/soirk/Krisztian/Egyetem/Survey Statisztika Msc/Szakdolgozat/pdfs/multiple-imputation-for-statistical-disclosure-limitation.pdf\n",
      "Writing contents to c:/Users/soirk/Krisztian/Egyetem/Survey Statisztika Msc/Szakdolgozat/pdfs/multiple-imputation-for-statistical-disclosure-limitation.txt\n",
      "Processing c:/Users/soirk/Krisztian/Egyetem/Survey Statisztika Msc/Szakdolgozat/pdfs/Ngaruye2018_Article_Small-areaEstimationWithMissin.pdf\n",
      "Writing contents to c:/Users/soirk/Krisztian/Egyetem/Survey Statisztika Msc/Szakdolgozat/pdfs/Ngaruye2018_Article_Small-areaEstimationWithMissin.txt\n",
      "Processing c:/Users/soirk/Krisztian/Egyetem/Survey Statisztika Msc/Szakdolgozat/pdfs/Roderick J. A. Little, Donald B. Rubin - Statistical Analysis with Missing Data.pdf\n",
      "Writing contents to c:/Users/soirk/Krisztian/Egyetem/Survey Statisztika Msc/Szakdolgozat/pdfs/Roderick J. A. Little, Donald B. Rubin - Statistical Analysis with Missing Data.txt\n",
      "Processing c:/Users/soirk/Krisztian/Egyetem/Survey Statisztika Msc/Szakdolgozat/pdfs/rubin-meng-likelihood raito test with imputed data sets.pdf\n",
      "Writing contents to c:/Users/soirk/Krisztian/Egyetem/Survey Statisztika Msc/Szakdolgozat/pdfs/rubin-meng-likelihood raito test with imputed data sets.txt\n",
      "Processing c:/Users/soirk/Krisztian/Egyetem/Survey Statisztika Msc/Szakdolgozat/pdfs/takahashi et al- imputing the mean of a heteroskedastic log-normal missing variable.pdf\n",
      "Writing contents to c:/Users/soirk/Krisztian/Egyetem/Survey Statisztika Msc/Szakdolgozat/pdfs/takahashi et al- imputing the mean of a heteroskedastic log-normal missing variable.txt\n",
      "Processing c:/Users/soirk/Krisztian/Egyetem/Survey Statisztika Msc/Szakdolgozat/pdfs/takahashi multiple imputation.pdf\n",
      "Writing contents to c:/Users/soirk/Krisztian/Egyetem/Survey Statisztika Msc/Szakdolgozat/pdfs/takahashi multiple imputation.txt\n",
      "Processing c:/Users/soirk/Krisztian/Egyetem/Survey Statisztika Msc/Szakdolgozat/pdfs/takahashi- MI of missing values in economic surveys comparison of competing algorithms.pdf\n",
      "Writing contents to c:/Users/soirk/Krisztian/Egyetem/Survey Statisztika Msc/Szakdolgozat/pdfs/takahashi- MI of missing values in economic surveys comparison of competing algorithms.txt\n",
      "Processing c:/Users/soirk/Krisztian/Egyetem/Survey Statisztika Msc/Szakdolgozat/pdfs/takahashi- MI of turnover in edinet data.pdf\n",
      "Writing contents to c:/Users/soirk/Krisztian/Egyetem/Survey Statisztika Msc/Szakdolgozat/pdfs/takahashi- MI of turnover in edinet data.txt\n",
      "Processing c:/Users/soirk/Krisztian/Egyetem/Survey Statisztika Msc/Szakdolgozat/pdfs/takahiro-junichiro-missing_data_bank_of_japan.pdf\n",
      "Writing contents to c:/Users/soirk/Krisztian/Egyetem/Survey Statisztika Msc/Szakdolgozat/pdfs/takahiro-junichiro-missing_data_bank_of_japan.txt\n",
      "Processing c:/Users/soirk/Krisztian/Egyetem/Survey Statisztika Msc/Szakdolgozat/pdfs/tanaka et al- missing data clinical trials.pdf\n",
      "Writing contents to c:/Users/soirk/Krisztian/Egyetem/Survey Statisztika Msc/Szakdolgozat/pdfs/tanaka et al- missing data clinical trials.txt\n",
      "Processing c:/Users/soirk/Krisztian/Egyetem/Survey Statisztika Msc/Szakdolgozat/pdfs/thering et al-identifying missing data mechanisms.pdf\n"
     ]
    },
    {
     "name": "stdout",
     "output_type": "stream",
     "text": [
      "Writing contents to c:/Users/soirk/Krisztian/Egyetem/Survey Statisztika Msc/Szakdolgozat/pdfs/thering et al-identifying missing data mechanisms.txt\n",
      "Processing c:/Users/soirk/Krisztian/Egyetem/Survey Statisztika Msc/Szakdolgozat/pdfs/tomita et al- a bias-corrected estimator in multiple imputation for missing data.pdf\n",
      "Writing contents to c:/Users/soirk/Krisztian/Egyetem/Survey Statisztika Msc/Szakdolgozat/pdfs/tomita et al- a bias-corrected estimator in multiple imputation for missing data.txt\n",
      "Processing c:/Users/soirk/Krisztian/Egyetem/Survey Statisztika Msc/Szakdolgozat/pdfs/variance estimation with hot deck imputation.pdf\n",
      "Writing contents to c:/Users/soirk/Krisztian/Egyetem/Survey Statisztika Msc/Szakdolgozat/pdfs/variance estimation with hot deck imputation.txt\n",
      "Processing c:/Users/soirk/Krisztian/Egyetem/Survey Statisztika Msc/Szakdolgozat/pdfs/zhuang et al- detection and replenishment of missing data in marked point processes.pdf\n",
      "Writing contents to c:/Users/soirk/Krisztian/Egyetem/Survey Statisztika Msc/Szakdolgozat/pdfs/zhuang et al- detection and replenishment of missing data in marked point processes.txt\n"
     ]
    }
   ],
   "source": [
    "# works like charm\n",
    "\n",
    "from tika import parser\n",
    "import os\n",
    "\n",
    "# https://stackoverflow.com/questions/34837707/how-to-extract-text-from-a-pdf-file \n",
    "\n",
    "def extract_text_from_pdfs_recursively(dir):\n",
    "    for root, dirs, files in os.walk(dir):\n",
    "        for file in files:\n",
    "            path_to_pdf = os.path.join(root, file)\n",
    "            [stem, ext] = os.path.splitext(path_to_pdf)\n",
    "            if ext == '.pdf':\n",
    "                print(\"Processing \" + path_to_pdf)\n",
    "                pdf_contents = parser.from_file(path_to_pdf)\n",
    "                path_to_txt = stem + '.txt'\n",
    "                with open(path_to_txt, 'w') as txt_file:\n",
    "                    print(\"Writing contents to \" + path_to_txt)\n",
    "                    pdf_contents_str = str(pdf_contents['content'].encode('utf-8', errors='ignore')).replace(\"\\n\", \"\").replace(\"\\\\\", \"\").lower()\n",
    "                    txt_file.write(pdf_contents_str)\n",
    "\n",
    "\n",
    "if __name__ == \"__main__\":\n",
    "    extract_text_from_pdfs_recursively(\"c:/Users/soirk/Krisztian/Egyetem/Survey Statisztika Msc/Szakdolgozat/pdfs/\")"
   ]
  }
 ],
 "metadata": {
  "kernelspec": {
   "display_name": "Python 3",
   "language": "python",
   "name": "python3"
  },
  "language_info": {
   "codemirror_mode": {
    "name": "ipython",
    "version": 3
   },
   "file_extension": ".py",
   "mimetype": "text/x-python",
   "name": "python",
   "nbconvert_exporter": "python",
   "pygments_lexer": "ipython3",
   "version": "3.7.4"
  }
 },
 "nbformat": 4,
 "nbformat_minor": 2
}
