{
 "cells": [
  {
   "cell_type": "code",
   "execution_count": null,
   "metadata": {},
   "outputs": [],
   "source": [
    "# extracting metadata from metadata files\n",
    "\n",
    "from bs4 import BeautifulSoup\n",
    "import pandas as pd\n",
    "import os\n",
    "\n",
    "path=r'c:\\Users\\soirk\\Krisztian\\Egyetem\\Survey Statisztika Msc\\Szakdolgozat\\Jstor data\\metadata\\\\'\n",
    "\n",
    "files = []\n",
    "\n",
    "arr = os.listdir(path)"
   ]
  },
  {
   "cell_type": "code",
   "execution_count": null,
   "metadata": {},
   "outputs": [],
   "source": [
    "jtitle = []\n",
    "atitle = []\n",
    "date = []\n",
    "doi = []\n",
    "ids=[]\n",
    "num = 0\n",
    "fail = []\n",
    "\n",
    "for file in arr:\n",
    "    metadata = open(path+file, \"r\",encoding=\"utf8\")\n",
    "    soup = BeautifulSoup(metadata, \"xml\")\n",
    "    num += 1\n",
    "    print('article #',num)\n",
    "    try:\n",
    "        jtitle.append(soup.find('journal-title').getText())\n",
    "        atitle.append(soup.find('article-title').getText())\n",
    "        date.append(soup.find('pub-date').getText().replace('\\n',''))\n",
    "        doi.append(soup.find('article-id').getText())\n",
    "        ids.append(file)\n",
    "    except:\n",
    "        fail.append(file)\n",
    "        print(file+' unsuccessful',num)\n",
    "        continue"
   ]
  },
  {
   "cell_type": "code",
   "execution_count": null,
   "metadata": {},
   "outputs": [],
   "source": [
    "jtitle2 = []\n",
    "atitle2 = []\n",
    "date2 = []\n",
    "doi2 = []\n",
    "ids2=[]\n",
    "num = 0\n",
    "fail2 = []\n",
    "\n",
    "for file in fail:\n",
    "    metadata = open(path+file, \"r\",encoding=\"utf8\")\n",
    "    soup = BeautifulSoup(metadata, \"xml\")\n",
    "    num += 1\n",
    "    print('article #',num)\n",
    "    try:\n",
    "        try:\n",
    "            jtitle2.append(soup.find('journal-id').getText())\n",
    "        except:\n",
    "            jtitle2.append(soup.find('journal-title').getText())\n",
    "        try:\n",
    "            atitle2.append(soup.find('article-title').getText())\n",
    "        except:\n",
    "            continue\n",
    "        date2.append(soup.find('pub-date').getText().replace('\\n',''))\n",
    "        doi2.append(soup.find('article-id').getText())\n",
    "        ids2.append(file)\n",
    "    except:\n",
    "        fail2.append(file)\n",
    "        print(file+' unsuccessful',num)\n",
    "        continue"
   ]
  },
  {
   "cell_type": "code",
   "execution_count": null,
   "metadata": {},
   "outputs": [],
   "source": [
    "jstor = pd.DataFrame(list(zip(ids,doi,atitle,date,jtitle)),columns=['id','article_id','article_title','date','journal_title'])\n",
    "\n",
    "for i in range(len(jstor['date'])):\n",
    "    jstor.iloc[i,2]=jstor['date'][i][-4:]"
   ]
  },
  {
   "cell_type": "code",
   "execution_count": null,
   "metadata": {},
   "outputs": [],
   "source": [
    "jstor_fail = pd.DataFrame(list(zip(ids2,doi2,atitle2,date2,jtitle2)),columns=['id','article_id','article_title','date','journal_title'])\n",
    "\n",
    "for i in range(len(jstor_fail['date'])):\n",
    "    jstor_fail.iloc[i,2]=jstor_fail['date'][i][-4:]"
   ]
  },
  {
   "cell_type": "code",
   "execution_count": null,
   "metadata": {},
   "outputs": [],
   "source": [
    "jstor=pd.concat([jstor,jstor_fail])"
   ]
  },
  {
   "cell_type": "code",
   "execution_count": null,
   "metadata": {},
   "outputs": [],
   "source": [
    "jstor.to_csv(r'c:\\Users\\soirk\\Krisztian\\Egyetem\\Survey Statisztika Msc\\Szakdolgozat\\Jstor data\\\\jstor_metadata.csv',index=False)"
   ]
  }
 ],
 "metadata": {
  "language_info": {
   "codemirror_mode": {
    "name": "ipython",
    "version": 3
   },
   "file_extension": ".py",
   "mimetype": "text/x-python",
   "name": "python",
   "nbconvert_exporter": "python",
   "pygments_lexer": "ipython3",
   "version": 3
  },
  "orig_nbformat": 2
 },
 "nbformat": 4,
 "nbformat_minor": 2
}