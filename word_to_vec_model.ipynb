{
 "cells": [
  {
   "cell_type": "code",
   "execution_count": null,
   "metadata": {},
   "outputs": [],
   "source": [
    "from nltk.tokenize import sent_tokenize, word_tokenize \n",
    "import pandas as pd\n",
    "import os\n",
    "import warnings \n",
    "import enchant\n",
    "import gensim \n",
    "from gensim.models import Word2Vec \n",
    "\n",
    "d = enchant.Dict(\"en_US\")\n",
    "warnings.filterwarnings(action = 'ignore') "
   ]
  },
  {
   "cell_type": "code",
   "execution_count": null,
   "metadata": {},
   "outputs": [],
   "source": [
    "path = r'c:\\Users\\soirk\\Krisztian\\Egyetem\\Survey Statisztika Msc\\Szakdolgozat\\corpus\\all_paper_cleaned_txt'+'\\\\'\n",
    "paper_files=os.listdir(path)\n",
    "\n",
    "s = open(path+paper_files[0],encoding='utf-8')\n",
    "\n",
    "data=s.read().split(',')\n",
    "data_celan=[word for word in data if word.isalpha() and len(word) > 1 and d.check(word) == True]\n",
    "\n",
    "model1 = gensim.models.Word2Vec(data, min_count = 1,  \n",
    "                              size = 100, window = 5) "
   ]
  },
  {
   "cell_type": "code",
   "execution_count": null,
   "metadata": {},
   "outputs": [],
   "source": [
    "model1.wv.save_word2vec_format(r'c:\\Users\\soirk\\Krisztian\\Egyetem\\Survey Statisztika Msc\\Szakdolgozat\\corpus\\wv_model.kv')"
   ]
  }
 ],
 "metadata": {
  "language_info": {
   "codemirror_mode": {
    "name": "ipython",
    "version": 3
   },
   "file_extension": ".py",
   "mimetype": "text/x-python",
   "name": "python",
   "nbconvert_exporter": "python",
   "pygments_lexer": "ipython3",
   "version": 3
  },
  "orig_nbformat": 2
 },
 "nbformat": 4,
 "nbformat_minor": 2
}