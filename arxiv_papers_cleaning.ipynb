{
 "cells": [
  {
   "cell_type": "code",
   "execution_count": null,
   "metadata": {},
   "outputs": [],
   "source": [
    "import pandas as pd\n",
    "import numpy as np\n",
    "import os\n",
    "\n",
    "path = \"c:/Users/soirk/Krisztian/Egyetem/Survey Statisztika Msc/Szakdolgozat/\"\n",
    "\n",
    "arxiv=pd.read_csv(path+'papers_arxiv_api_4.csv')\n",
    "arxiv_df=pd.DataFrame(arxiv)\n",
    "\n",
    "print(arxiv_df)"
   ]
  },
  {
   "cell_type": "code",
   "execution_count": null,
   "metadata": {},
   "outputs": [],
   "source": [
    "for i in range(len(arxiv_df['category'])):\n",
    "    arxiv_df.iloc[i,4]=arxiv_df['category'][i].split('.')[0]"
   ]
  },
  {
   "cell_type": "code",
   "execution_count": null,
   "metadata": {},
   "outputs": [],
   "source": [
    "for i in range(len(arxiv_df['published'])):\n",
    "    arxiv_df.iloc[i,3]=arxiv_df['published'][i][:4]"
   ]
  },
  {
   "cell_type": "code",
   "execution_count": null,
   "metadata": {},
   "outputs": [],
   "source": [
    "arxiv_df.rename(columns = {'link':'id'}, inplace = True)"
   ]
  },
  {
   "cell_type": "code",
   "execution_count": null,
   "metadata": {},
   "outputs": [],
   "source": [
    "a_id=arxiv_df['id'][0]\n",
    "a_id[a_id.find('pdf/')+4:a_id.find('.pdf')]"
   ]
  },
  {
   "cell_type": "code",
   "execution_count": null,
   "metadata": {},
   "outputs": [],
   "source": [
    "for i in range(len(arxiv_df['id'])):\n",
    "    a_id=arxiv_df['id'][i]\n",
    "    arxiv_df.iloc[i,2]=a_id[a_id.find('pdf/')+4:a_id.find('.pdf')]  "
   ]
  },
  {
   "cell_type": "code",
   "execution_count": null,
   "metadata": {},
   "outputs": [],
   "source": [
    "arxiv_df=arxiv_df.drop(['Unnamed: 0'],axis=1)"
   ]
  },
  {
   "cell_type": "code",
   "execution_count": null,
   "metadata": {},
   "outputs": [],
   "source": [
    "columns_titles = [\"id\",\"title\",\"published\",\"category\"]\n",
    "arxiv_df=arxiv_df.reindex(columns=columns_titles)\n",
    "\n",
    "arxiv_df.columns=['id','title','date','category']"
   ]
  },
  {
   "cell_type": "code",
   "execution_count": null,
   "metadata": {},
   "outputs": [],
   "source": [
    "for i in range(len(arxiv_df['id'])):\n",
    "    a_id=arxiv_df['id'][i]\n",
    "    if '/' in a_id:\n",
    "        arxiv_df.iloc[i,0]=a_id[a_id.find('/')+1:]"
   ]
  },
  {
   "cell_type": "code",
   "execution_count": null,
   "metadata": {},
   "outputs": [],
   "source": [
    "arxiv_df.to_csv(path +'papers_arxiv_api.csv',index=False)"
   ]
  },
  {
   "cell_type": "code",
   "execution_count": null,
   "metadata": {},
   "outputs": [],
   "source": [
    "arxiv_df_2 = arxiv_df[arxiv_df['date'] < 2020]\n",
    "\n",
    "arxiv_df_2.to_csv(path +'papers_arxiv_api_5.csv',index=False)"
   ]
  }
 ],
 "metadata": {
  "kernelspec": {
   "display_name": "Python 3",
   "language": "python",
   "name": "python3"
  },
  "language_info": {
   "codemirror_mode": {
    "name": "ipython",
    "version": 3
   },
   "file_extension": ".py",
   "mimetype": "text/x-python",
   "name": "python",
   "nbconvert_exporter": "python",
   "pygments_lexer": "ipython3",
   "version": "3.7.4"
  }
 },
 "nbformat": 4,
 "nbformat_minor": 2
}