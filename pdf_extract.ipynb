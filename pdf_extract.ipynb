{
 "cells": [
  {
   "cell_type": "code",
   "execution_count": null,
   "metadata": {},
   "outputs": [],
   "source": [
    "# converts .pdf files in selected directory to .txt files\n",
    "\n",
    "from tika import parser\n",
    "import PyPDF2\n",
    "import os\n",
    "import re\n",
    "\n",
    "# https://stackoverflow.com/questions/34837707/how-to-extract-text-from-a-pdf-file \n",
    "pypdf_num = 0\n",
    "\n",
    "def text_extractor(path):\n",
    "    with open(path, 'rb') as f:\n",
    "        pages = []\n",
    "        text = []       \n",
    "        pdf = PdfFileReader(f)\n",
    "        # get pages\n",
    "        for i in range(0,pdf.getNumPages()):\n",
    "            pages.append(pdf.getPage(i))\n",
    "            text.append(str(pages[i].extractText()))\n",
    "           return(text)\n",
    "\n",
    "def extract_text_from_pdfs_recursively(dir):\n",
    "    for root, dirs, files in os.walk(dir):\n",
    "        for file in files:\n",
    "            path_to_pdf = os.path.join(root, file)\n",
    "            [stem, ext] = os.path.splitext(path_to_pdf)\n",
    "            if ext == '.pdf':\n",
    "                try:\n",
    "                #print(\"Processing \" + path_to_pdf)\n",
    "                    pdf_contents = parser.from_file(path_to_pdf)\n",
    "                except:\n",
    "                    pypdf_num += 1\n",
    "                    print('PyPDF2 is used: '+str(pypdf_num))\n",
    "                    pdf_contents = text_extractor(path_to_pdf)               \n",
    "                path_to_txt = stem + '.txt'\n",
    "                try:   \n",
    "                    with open(path_to_txt, 'w') as txt_file:\n",
    "                        print(\"Writing contents to \" + path_to_txt)\n",
    "                        pdf_contents = str(pdf_contents['content'].encode('utf-8', errors='ignore')).replace(\"\\n\", \"\").replace(\"\\\\\", \"\").lower()\n",
    "                        pdf_contents = re.sub(\"(\\\\d|\\\\W)+\",\" \",pdf_contents)\n",
    "                        txt_file.write(str(pdf_contents))\n",
    "                except:\n",
    "                    print('Failed to extract text from '+path_to_txt)\n",
    "                    continue\n",
    "\n",
    "\n",
    "if __name__ == \"__main__\":\n",
    "    extract_text_from_pdfs_recursively(\"c:/Users/soirk/Krisztian/Egyetem/Survey Statisztika Msc/Szakdolgozat/arxiv_pdfs/\")"
   ]
  }
 ],
 "metadata": {
  "language_info": {
   "codemirror_mode": {
    "name": "ipython",
    "version": 3
   },
   "file_extension": ".py",
   "mimetype": "text/x-python",
   "name": "python",
   "nbconvert_exporter": "python",
   "pygments_lexer": "ipython3",
   "version": 3
  },
  "orig_nbformat": 2
 },
 "nbformat": 4,
 "nbformat_minor": 2
}